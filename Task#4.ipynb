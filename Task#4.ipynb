{
 "cells": [
  {
   "cell_type": "code",
   "execution_count": null,
   "id": "87ba75c9-45ef-4810-90aa-163a6ee6dc93",
   "metadata": {},
   "outputs": [],
   "source": [
    "#не знаю, как сделать через функцию, но если правильно понято условие, то получается через регулярки\n",
    "\n",
    "import re\n",
    "text = input()\n",
    "print(re.sub(r'(?:^| )\\w(?:$| )', ' ', text).strip())\n"
   ]
  }
 ],
 "metadata": {
  "kernelspec": {
   "display_name": "Python 3 (ipykernel)",
   "language": "python",
   "name": "python3"
  },
  "language_info": {
   "codemirror_mode": {
    "name": "ipython",
    "version": 3
   },
   "file_extension": ".py",
   "mimetype": "text/x-python",
   "name": "python",
   "nbconvert_exporter": "python",
   "pygments_lexer": "ipython3",
   "version": "3.10.9"
  }
 },
 "nbformat": 4,
 "nbformat_minor": 5
}
