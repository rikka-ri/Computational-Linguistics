{
  "nbformat": 4,
  "nbformat_minor": 0,
  "metadata": {
    "colab": {
      "provenance": [],
      "authorship_tag": "ABX9TyOcrfUrdMP49T79guRwLyek",
      "include_colab_link": true
    },
    "kernelspec": {
      "name": "python3",
      "display_name": "Python 3"
    },
    "language_info": {
      "name": "python"
    }
  },
  "cells": [
    {
      "cell_type": "markdown",
      "metadata": {
        "id": "view-in-github",
        "colab_type": "text"
      },
      "source": [
        "<a href=\"https://colab.research.google.com/github/rikka-ri/Computational-Linguistics/blob/main/%D0%94%D0%97-1.ipynb\" target=\"_parent\"><img src=\"https://colab.research.google.com/assets/colab-badge.svg\" alt=\"Open In Colab\"/></a>"
      ]
    },
    {
      "cell_type": "markdown",
      "source": [
        "Задача 1."
      ],
      "metadata": {
        "id": "gwO8atmgy5F6"
      }
    },
    {
      "cell_type": "code",
      "execution_count": null,
      "metadata": {
        "id": "trtCnhBOpaEv"
      },
      "outputs": [],
      "source": [
        "a = float(input('Оцените силу вашей душевной боли по шкале от 0 до 10 или по шкале кофе, пролитое на рубашку / : '))\n",
        "if a < 0.7:\n",
        "    print('Кажется, вы испытываете легкое огорчение. Как человек в короткой поездке в метро, забывший дома наушники')\n",
        "elif 0.7 <= a <= 4.2:\n",
        "    print('Вы встревожены - почти как человек, которому придется звонить по телефону, и это в эпоху мессенджеров! То самое чувство, когда начинаете нервно репетировать в голове диалог...')\n",
        "elif 4.3 <= a <= 7.7:\n",
        "    print('У вас учащенный пульс и потеют ладошки? Ваше внутреннее состояние похоже на состояние человека в маршртуке, который должен громко попросить остановить на остновке? Дышите глубоко, посчитайте до четырех и обратно. Не переживайте, даже если вы скажете громко глупость, вся маршрутка плакать не будет.')\n",
        "elif 7.8 <= a <= 10:\n",
        "    print ('Вот вы снова маленький ребенок, которого мама оставила одного в очереди на кассе, а сама пошла взять молоко. Хоть вы и ощущаете себя маленьким беззащитным комочком, но знайте, что мама скоро придет и спасет вас, а добрая тетя в очереди даже сделает комплимент вашей храбрости!')\n",
        "else:\n",
        "    print('О нет, кажется вам очень и очень плохо. Если вы находитесь в сложной жизненной ситуации, то лучше позвонить по единому общероссийскому телефону доверия — 8-800-2000-122.')\n"
      ]
    },
    {
      "cell_type": "markdown",
      "source": [
        "Задача 2."
      ],
      "metadata": {
        "id": "gfirgUdqy8uB"
      }
    },
    {
      "cell_type": "code",
      "source": [
        "import random\n",
        "\n",
        "cocktails = [\n",
        "    [\"мартини\",\"грейпфрутовый сок\",\"жасмин\",\"тоник\",\"лосось\"],\n",
        "    [\"клубника\",\"какао\",\"мята\",\"марсала\"],\n",
        "    [\"водка\",\"томатный сок\",\"лимонный сок\",\"вустерширский соус\",\"черный перец\",\"сельдерей\",\"лосось\"],\n",
        "    [\"джин\",\"вермут\",\"ликер мараскино\",\"апельсины\",\"коктейльная вишня\",\"лосось\"],\n",
        "    [\"ром\",\"авокадо\",\"сахарный сироп\",\"сливки\",\"лимонный сок\",\"лед\"],\n",
        "    [\"красный вермут\",\"тоник\",\"апельсины\",\"лосось\"],\n",
        "    [\"только чай\"]\n",
        "        ]\n"
      ],
      "metadata": {
        "id": "VM-yd2QfzBWe"
      },
      "execution_count": null,
      "outputs": []
    },
    {
      "cell_type": "code",
      "source": [
        "for i in cocktails:\n",
        "  for j in i:\n",
        "    if j == 'лосось':\n",
        "      i.remove('лосось')\n",
        "print(\"Сегодня в вашем коктейле будет:\", *random.choice(cocktails))\n",
        "\n",
        "#очень хочется разграничть ингридиенты запятой, но с помощью sep=\", \" запятая ставится так же после знака \":\", что не нужно...()"
      ],
      "metadata": {
        "id": "iIEAxALaLgQ2"
      },
      "execution_count": null,
      "outputs": []
    },
    {
      "cell_type": "markdown",
      "source": [
        "Задача 3.\n",
        "\n"
      ],
      "metadata": {
        "id": "P1QnI1BESmlM"
      }
    },
    {
      "cell_type": "code",
      "source": [
        "postcards = {\n",
        "    \"Maria\": \"London\",\n",
        "    \"Lorenzo\": \"Milan\",\n",
        "    \"Oleg\": \"Canberra\",\n",
        "    \"Hans\": \"Calgary\",\n",
        "    \"Mark\": \"Milan\",\n",
        "    \"Alex\": \"Krakow\",\n",
        "    \"Julia\": \"Murmansk\"\n",
        "}"
      ],
      "metadata": {
        "id": "wTLGx37RW2vW"
      },
      "execution_count": null,
      "outputs": []
    },
    {
      "cell_type": "code",
      "source": [
        "new_postcards = {\"Petra\" : \"Paris\", \"Ivan\" : \"Moscow\"}\n",
        "postcards.update(new_postcards)\n",
        "print(postcards)"
      ],
      "metadata": {
        "id": "s-8qyQbfTUPX"
      },
      "execution_count": null,
      "outputs": []
    },
    {
      "cell_type": "code",
      "source": [
        "postcards['Oleg'] = 'Sydney'\n",
        "print(postcards)"
      ],
      "metadata": {
        "id": "ImRqXjSPT13d"
      },
      "execution_count": null,
      "outputs": []
    },
    {
      "cell_type": "code",
      "source": [
        "cities = set()\n",
        "\n",
        "[cities.update(set(x) if isinstance(x, (list, set)) else [x])\n",
        " for x in postcards.values()]\n",
        "\n",
        "print(cities)"
      ],
      "metadata": {
        "id": "btuCpv3CYu99"
      },
      "execution_count": null,
      "outputs": []
    }
  ]
}