{
 "cells": [
  {
   "cell_type": "code",
   "execution_count": null,
   "id": "764226e8-8b2f-4a9a-81cd-c21e9fb83c2e",
   "metadata": {},
   "outputs": [],
   "source": [
    "# не уверена насчет оформления, методы из документации JAICP"
   ]
  },
  {
   "cell_type": "code",
   "execution_count": null,
   "id": "74fa8b0a-06ed-4746-9281-c5a5d08a761d",
   "metadata": {
    "tags": []
   },
   "outputs": [],
   "source": [
    "'message' = \"Ежемесячная плата\"\n",
    "'answer' = \"Не удалось получить информацию об абонентской плате. Условия своего тарифного плана смотрите здесь (ссылка)\"\n",
    "\n",
    "$analytics.setMessageLabel(\"Ключевая тема\")\n",
    "$analytics.setSessionLabel(\"Корректный ответ\")"
   ]
  },
  {
   "cell_type": "code",
   "execution_count": null,
   "id": "25cd2a92-294d-40be-819d-77c8ca622efd",
   "metadata": {},
   "outputs": [],
   "source": [
    "'message' = \"Привет, бот!\"\n",
    "'answer' = \"Добрый день! Чем могу помочь?\"\n",
    "'message' = \"Подскажи, где спрятать улики\"\n",
    "'answer' = \"Извините, это вы не по адресу \"\n",
    "'message' = \"тупой какой бот\"\n",
    "'answer' = \"Попробуйте переформулировать свой вопрос, я не понимаю\"\n",
    "\n",
    "$analytics.setMessageLabel(\"Неключевая тема\", \"Коммуникативная ситуация\")\n",
    "$analytics.setSessionLabel(\"Чат-бот не распознал запрос\")"
   ]
  },
  {
   "cell_type": "code",
   "execution_count": null,
   "id": "f9afe127-633b-4bc7-867d-5b777d1c98aa",
   "metadata": {},
   "outputs": [],
   "source": [
    "'message' = \"Здравствуйте! Позовите человек\"\n",
    "'answer' = \"Могу перевести на оператора. Хотите?\"\n",
    "'message' = \"да хочу\"\n",
    "'answer' = \"перевожу на оператора.\"\n",
    "\n",
    "$analytics.setMessageLabel(\"Вызов оператора\", \"Коммуникативная ситуация\")\n",
    "$analytics.setSessionLabel(\"Корректный ответ\")"
   ]
  },
  {
   "cell_type": "code",
   "execution_count": null,
   "id": "f6f18d1d-a8f4-4b2a-9591-3ce5e91fe5cb",
   "metadata": {},
   "outputs": [],
   "source": [
    "'message' = \"Мне подключили услугу \"Всегда на связи\", как отключить?\"\n",
    "'answer' = \"Чтобы подключить услугу \"Всегда на связи \" перейди на сайт (ссылка)\"\n",
    "\n",
    "$analytics.setSessionLabel(\"Некрректный ответ\")\n",
    "$analytics.setMessageLabel(\"Ключевая тема\")"
   ]
  }
 ],
 "metadata": {
  "kernelspec": {
   "display_name": "Python 3 (ipykernel)",
   "language": "python",
   "name": "python3"
  },
  "language_info": {
   "codemirror_mode": {
    "name": "ipython",
    "version": 3
   },
   "file_extension": ".py",
   "mimetype": "text/x-python",
   "name": "python",
   "nbconvert_exporter": "python",
   "pygments_lexer": "ipython3",
   "version": "3.10.9"
  }
 },
 "nbformat": 4,
 "nbformat_minor": 5
}
